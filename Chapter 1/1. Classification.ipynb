{
 "cells": [
  {
   "cell_type": "code",
   "execution_count": 1,
   "metadata": {
    "collapsed": true
   },
   "outputs": [],
   "source": [
    "import matplotlib.pyplot as plt\n",
    "import numpy as np\n",
    "%matplotlib inline"
   ]
  },
  {
   "cell_type": "markdown",
   "metadata": {},
   "source": [
    "Classification\n",
    "==============="
   ]
  },
  {
   "cell_type": "markdown",
   "metadata": {},
   "source": [
    "Get some data to play with"
   ]
  },
  {
   "cell_type": "code",
   "execution_count": 2,
   "metadata": {
    "collapsed": false
   },
   "outputs": [
    {
     "data": {
      "text/plain": [
       "['images', 'data', 'target_names', 'DESCR', 'target']"
      ]
     },
     "execution_count": 2,
     "metadata": {},
     "output_type": "execute_result"
    }
   ],
   "source": [
    "from sklearn.datasets import load_digits\n",
    "digits = load_digits()\n",
    "digits.keys()"
   ]
  },
  {
   "cell_type": "code",
   "execution_count": 3,
   "metadata": {
    "collapsed": false
   },
   "outputs": [
    {
     "data": {
      "text/plain": [
       "(1797, 8, 8)"
      ]
     },
     "execution_count": 3,
     "metadata": {},
     "output_type": "execute_result"
    }
   ],
   "source": [
    "digits.images.shape"
   ]
  },
  {
   "cell_type": "code",
   "execution_count": 4,
   "metadata": {
    "collapsed": false
   },
   "outputs": [
    {
     "name": "stdout",
     "output_type": "stream",
     "text": [
      "[[  0.   0.   5.  13.   9.   1.   0.   0.]\n",
      " [  0.   0.  13.  15.  10.  15.   5.   0.]\n",
      " [  0.   3.  15.   2.   0.  11.   8.   0.]\n",
      " [  0.   4.  12.   0.   0.   8.   8.   0.]\n",
      " [  0.   5.   8.   0.   0.   9.   8.   0.]\n",
      " [  0.   4.  11.   0.   1.  12.   7.   0.]\n",
      " [  0.   2.  14.   5.  10.  12.   0.   0.]\n",
      " [  0.   0.   6.  13.  10.   0.   0.   0.]]\n"
     ]
    }
   ],
   "source": [
    "print(digits.images[0])"
   ]
  },
  {
   "cell_type": "code",
   "execution_count": 5,
   "metadata": {
    "collapsed": false
   },
   "outputs": [
    {
     "data": {
      "text/plain": [
       "<matplotlib.image.AxesImage at 0x111dd1450>"
      ]
     },
     "execution_count": 5,
     "metadata": {},
     "output_type": "execute_result"
    },
    {
     "data": {
      "image/png": "[encoded data removed]",
      "text/plain": [
       "<matplotlib.figure.Figure at 0x111d38050>"
      ]
     },
     "metadata": {},
     "output_type": "display_data"
    }
   ],
   "source": [
    "plt.matshow(digits.images[0], cmap=plt.cm.Greys)"
   ]
  },
  {
   "cell_type": "code",
   "execution_count": 6,
   "metadata": {
    "collapsed": false
   },
   "outputs": [
    {
     "data": {
      "text/plain": [
       "(1797, 64)"
      ]
     },
     "execution_count": 6,
     "metadata": {},
     "output_type": "execute_result"
    }
   ],
   "source": [
    "digits.data.shape"
   ]
  },
  {
   "cell_type": "code",
   "execution_count": 7,
   "metadata": {
    "collapsed": false
   },
   "outputs": [
    {
     "data": {
      "text/plain": [
       "(1797,)"
      ]
     },
     "execution_count": 7,
     "metadata": {},
     "output_type": "execute_result"
    }
   ],
   "source": [
    "digits.target.shape"
   ]
  },
  {
   "cell_type": "code",
   "execution_count": 8,
   "metadata": {
    "collapsed": false
   },
   "outputs": [
    {
     "data": {
      "text/plain": [
       "array([0, 1, 2, ..., 8, 9, 8])"
      ]
     },
     "execution_count": 8,
     "metadata": {},
     "output_type": "execute_result"
    }
   ],
   "source": [
    "digits.target"
   ]
  },
  {
   "cell_type": "markdown",
   "metadata": {},
   "source": [
    "**Data is always a numpy array (or sparse matrix) of shape (n_samples, n_features)**"
   ]
  },
  {
   "cell_type": "markdown",
   "metadata": {},
   "source": [
    "Split the data to get going"
   ]
  },
  {
   "cell_type": "code",
   "execution_count": 9,
   "metadata": {
    "collapsed": false
   },
   "outputs": [],
   "source": [
    "from sklearn.cross_validation import train_test_split\n",
    "X_train, X_test, y_train, y_test = train_test_split(digits.data, digits.target)"
   ]
  },
  {
   "cell_type": "markdown",
   "metadata": {},
   "source": [
    "Really Simple API\n",
    "-------------------\n",
    "0) Import your model class"
   ]
  },
  {
   "cell_type": "code",
   "execution_count": 10,
   "metadata": {
    "collapsed": false
   },
   "outputs": [],
   "source": [
    "from sklearn.svm import LinearSVC"
   ]
  },
  {
   "cell_type": "markdown",
   "metadata": {},
   "source": [
    "1) Instantiate an object and set the parameters"
   ]
  },
  {
   "cell_type": "code",
   "execution_count": 11,
   "metadata": {
    "collapsed": false
   },
   "outputs": [],
   "source": [
    "svm = LinearSVC(C=0.1)"
   ]
  },
  {
   "cell_type": "markdown",
   "metadata": {},
   "source": [
    "2) Fit the model"
   ]
  },
  {
   "cell_type": "code",
   "execution_count": 12,
   "metadata": {
    "collapsed": false
   },
   "outputs": [
    {
     "data": {
      "text/plain": [
       "LinearSVC(C=0.1, class_weight=None, dual=True, fit_intercept=True,\n",
       "     intercept_scaling=1, loss='squared_hinge', max_iter=1000,\n",
       "     multi_class='ovr', penalty='l2', random_state=None, tol=0.0001,\n",
       "     verbose=0)"
      ]
     },
     "execution_count": 12,
     "metadata": {},
     "output_type": "execute_result"
    }
   ],
   "source": [
    "svm.fit(X_train, y_train)"
   ]
  },
  {
   "cell_type": "markdown",
   "metadata": {},
   "source": [
    "3) Apply / evaluate"
   ]
  },
  {
   "cell_type": "code",
   "execution_count": 13,
   "metadata": {
    "collapsed": false
   },
   "outputs": [
    {
     "name": "stdout",
     "output_type": "stream",
     "text": [
      "[0 3 3 ..., 3 5 2]\n",
      "[0 3 3 ..., 3 5 2]\n"
     ]
    }
   ],
   "source": [
    "print(svm.predict(X_train))\n",
    "print(y_train)"
   ]
  },
  {
   "cell_type": "code",
   "execution_count": 14,
   "metadata": {
    "collapsed": false
   },
   "outputs": [
    {
     "data": {
      "text/plain": [
       "0.99628804751299183"
      ]
     },
     "execution_count": 14,
     "metadata": {},
     "output_type": "execute_result"
    }
   ],
   "source": [
    "svm.score(X_train, y_train)"
   ]
  },
  {
   "cell_type": "code",
   "execution_count": 15,
   "metadata": {
    "collapsed": false
   },
   "outputs": [
    {
     "data": {
      "text/plain": [
       "0.95111111111111113"
      ]
     },
     "execution_count": 15,
     "metadata": {},
     "output_type": "execute_result"
    }
   ],
   "source": [
    "svm.score(X_test, y_test)"
   ]
  },
  {
   "cell_type": "markdown",
   "metadata": {},
   "source": [
    "And again\n",
    "---------"
   ]
  },
  {
   "cell_type": "code",
   "execution_count": 16,
   "metadata": {
    "collapsed": false
   },
   "outputs": [],
   "source": [
    "from sklearn.ensemble import RandomForestClassifier"
   ]
  },
  {
   "cell_type": "code",
   "execution_count": 17,
   "metadata": {
    "collapsed": false
   },
   "outputs": [],
   "source": [
    "rf = RandomForestClassifier(n_estimators=50)"
   ]
  },
  {
   "cell_type": "code",
   "execution_count": 18,
   "metadata": {
    "collapsed": false
   },
   "outputs": [
    {
     "data": {
      "text/plain": [
       "RandomForestClassifier(bootstrap=True, class_weight=None, criterion='gini',\n",
       "            max_depth=None, max_features='auto', max_leaf_nodes=None,\n",
       "            min_samples_leaf=1, min_samples_split=2,\n",
       "            min_weight_fraction_leaf=0.0, n_estimators=50, n_jobs=1,\n",
       "            oob_score=False, random_state=None, verbose=0,\n",
       "            warm_start=False)"
      ]
     },
     "execution_count": 18,
     "metadata": {},
     "output_type": "execute_result"
    }
   ],
   "source": [
    "rf.fit(X_train, y_train)"
   ]
  },
  {
   "cell_type": "code",
   "execution_count": 19,
   "metadata": {
    "collapsed": false
   },
   "outputs": [
    {
     "data": {
      "text/plain": [
       "array([7, 2, 6, 3, 9, 6, 9, 5, 3, 7, 1, 8, 5, 4, 9, 0, 7, 7, 1, 7, 4, 4, 5,\n",
       "       1, 5, 2, 1, 9, 3, 6, 2, 1, 0, 3, 9, 0, 8, 1, 9, 3, 4, 8, 4, 5, 8, 7,\n",
       "       3, 1, 6, 3, 1, 3, 9, 7, 3, 9, 3, 1, 6, 4, 6, 9, 9, 8, 3, 6, 7, 4, 4,\n",
       "       3, 2, 3, 8, 0, 6, 6, 6, 6, 4, 3, 5, 3, 6, 2, 0, 3, 2, 9, 8, 1, 8, 1,\n",
       "       8, 0, 1, 3, 1, 2, 2, 3, 5, 5, 4, 6, 5, 6, 3, 2, 7, 7, 4, 9, 4, 8, 9,\n",
       "       8, 7, 4, 8, 7, 7, 5, 0, 7, 2, 8, 8, 9, 2, 3, 8, 7, 0, 3, 0, 4, 8, 6,\n",
       "       8, 7, 9, 7, 4, 3, 1, 2, 7, 9, 1, 6, 8, 4, 9, 5, 3, 9, 5, 2, 5, 0, 3,\n",
       "       4, 9, 5, 2, 3, 7, 3, 0, 9, 0, 0, 6, 4, 0, 3, 6, 5, 6, 8, 9, 0, 1, 5,\n",
       "       6, 6, 9, 0, 8, 5, 4, 7, 4, 6, 1, 9, 6, 8, 6, 0, 5, 9, 1, 7, 0, 1, 8,\n",
       "       4, 5, 5, 7, 7, 3, 7, 9, 2, 8, 9, 0, 1, 4, 4, 2, 8, 6, 9, 6, 3, 8, 3,\n",
       "       7, 2, 9, 2, 1, 3, 1, 1, 0, 6, 2, 8, 2, 6, 9, 0, 6, 5, 9, 7, 3, 5, 2,\n",
       "       3, 3, 1, 2, 0, 5, 5, 0, 9, 0, 7, 8, 5, 3, 0, 8, 9, 5, 9, 4, 6, 1, 2,\n",
       "       3, 9, 3, 3, 2, 4, 5, 2, 1, 1, 6, 3, 9, 9, 8, 7, 0, 4, 6, 3, 2, 6, 1,\n",
       "       4, 7, 7, 7, 9, 4, 8, 4, 1, 8, 3, 6, 5, 6, 7, 1, 5, 4, 6, 8, 5, 8, 6,\n",
       "       8, 7, 5, 5, 4, 9, 0, 9, 8, 1, 0, 2, 3, 1, 6, 0, 4, 9, 5, 6, 8, 5, 2,\n",
       "       0, 5, 5, 4, 3, 0, 4, 2, 5, 4, 1, 6, 2, 8, 0, 2, 1, 3, 4, 4, 9, 8, 7,\n",
       "       1, 2, 0, 5, 3, 0, 3, 6, 6, 3, 1, 8, 4, 1, 1, 0, 5, 1, 5, 6, 7, 4, 9,\n",
       "       2, 4, 3, 3, 5, 0, 2, 2, 3, 5, 2, 1, 8, 6, 0, 2, 8, 6, 6, 6, 5, 8, 4,\n",
       "       7, 8, 9, 9, 2, 5, 0, 8, 4, 5, 7, 1, 1, 4, 1, 4, 7, 4, 6, 6, 6, 3, 8,\n",
       "       7, 4, 1, 0, 8, 0, 9, 5, 3, 3, 2, 7, 5])"
      ]
     },
     "execution_count": 19,
     "metadata": {},
     "output_type": "execute_result"
    }
   ],
   "source": [
    "rf.predict(X_test)"
   ]
  },
  {
   "cell_type": "code",
   "execution_count": 20,
   "metadata": {
    "collapsed": false
   },
   "outputs": [
    {
     "data": {
      "text/plain": [
       "0.97111111111111115"
      ]
     },
     "execution_count": 20,
     "metadata": {},
     "output_type": "execute_result"
    }
   ],
   "source": [
    "rf.score(X_test, y_test)"
   ]
  },
  {
   "cell_type": "markdown",
   "metadata": {
    "collapsed": false
   },
   "source": [
    "<h1>Classifier Comparison</h1>\n",
    "<img src=\"classifier_comparison.png\" width=100%>"
   ]
  },
  {
   "cell_type": "markdown",
   "metadata": {},
   "source": [
    "Labels Can Be Anything\n",
    "============================="
   ]
  },
  {
   "cell_type": "code",
   "execution_count": 21,
   "metadata": {
    "collapsed": false
   },
   "outputs": [],
   "source": [
    "numbers = np.array([\"zero\", \"one\", \"two\", \"three\", \"four\", \"five\", \"six\", \"seven\", \"eight\", \"nine\"])"
   ]
  },
  {
   "cell_type": "code",
   "execution_count": 24,
   "metadata": {
    "collapsed": false
   },
   "outputs": [
    {
     "data": {
      "text/plain": [
       "array(['zero', 'three', 'three', ..., 'three', 'five', 'two'], \n",
       "      dtype='|S5')"
      ]
     },
     "execution_count": 24,
     "metadata": {},
     "output_type": "execute_result"
    }
   ],
   "source": [
    "y_train_string = numbers[y_train]\n",
    "y_train_string"
   ]
  },
  {
   "cell_type": "code",
   "execution_count": 22,
   "metadata": {
    "collapsed": false
   },
   "outputs": [
    {
     "data": {
      "text/plain": [
       "LinearSVC(C=0.1, class_weight=None, dual=True, fit_intercept=True,\n",
       "     intercept_scaling=1, loss='squared_hinge', max_iter=1000,\n",
       "     multi_class='ovr', penalty='l2', random_state=None, tol=0.0001,\n",
       "     verbose=0)"
      ]
     },
     "execution_count": 22,
     "metadata": {},
     "output_type": "execute_result"
    }
   ],
   "source": [
    "svm.fit(X_train, y_train_string)"
   ]
  },
  {
   "cell_type": "code",
   "execution_count": 23,
   "metadata": {
    "collapsed": false,
    "scrolled": true
   },
   "outputs": [
    {
     "data": {
      "text/plain": [
       "array(['seven', 'two', 'six', 'three', 'nine', 'six', 'nine', 'five',\n",
       "       'three', 'seven', 'one', 'eight', 'five', 'four', 'nine', 'zero',\n",
       "       'seven', 'seven', 'one', 'seven', 'four', 'four', 'five', 'one',\n",
       "       'five', 'two', 'three', 'nine', 'three', 'six', 'two', 'eight',\n",
       "       'zero', 'three', 'nine', 'zero', 'eight', 'one', 'four', 'three',\n",
       "       'one', 'nine', 'four', 'five', 'eight', 'seven', 'three', 'one',\n",
       "       'six', 'three', 'one', 'three', 'nine', 'seven', 'three', 'nine',\n",
       "       'three', 'one', 'six', 'four', 'six', 'nine', 'nine', 'eight',\n",
       "       'three', 'six', 'seven', 'four', 'four', 'three', 'two', 'three',\n",
       "       'eight', 'zero', 'six', 'six', 'six', 'six', 'four', 'three',\n",
       "       'four', 'three', 'six', 'two', 'zero', 'nine', 'two', 'nine',\n",
       "       'eight', 'one', 'eight', 'one', 'eight', 'zero', 'one', 'three',\n",
       "       'one', 'two', 'two', 'three', 'five', 'five', 'four', 'six',\n",
       "       'three', 'six', 'three', 'two', 'seven', 'seven', 'four', 'nine',\n",
       "       'four', 'eight', 'nine', 'eight', 'seven', 'four', 'eight', 'seven',\n",
       "       'seven', 'five', 'zero', 'seven', 'two', 'eight', 'eight', 'nine',\n",
       "       'two', 'three', 'eight', 'seven', 'zero', 'three', 'zero', 'four',\n",
       "       'one', 'six', 'eight', 'seven', 'nine', 'seven', 'one', 'three',\n",
       "       'one', 'two', 'seven', 'nine', 'one', 'six', 'eight', 'four',\n",
       "       'nine', 'five', 'three', 'nine', 'five', 'two', 'five', 'zero',\n",
       "       'three', 'four', 'nine', 'five', 'two', 'three', 'seven', 'three',\n",
       "       'zero', 'nine', 'zero', 'zero', 'six', 'four', 'zero', 'three',\n",
       "       'six', 'five', 'six', 'two', 'eight', 'zero', 'one', 'five', 'six',\n",
       "       'six', 'nine', 'zero', 'eight', 'five', 'four', 'seven', 'four',\n",
       "       'six', 'one', 'five', 'six', 'eight', 'six', 'zero', 'five', 'nine',\n",
       "       'one', 'seven', 'zero', 'one', 'eight', 'four', 'five', 'five',\n",
       "       'seven', 'seven', 'three', 'seven', 'nine', 'two', 'eight', 'nine',\n",
       "       'zero', 'one', 'four', 'four', 'two', 'eight', 'six', 'nine', 'six',\n",
       "       'three', 'one', 'three', 'one', 'two', 'nine', 'two', 'one',\n",
       "       'three', 'one', 'one', 'zero', 'six', 'one', 'eight', 'two', 'six',\n",
       "       'nine', 'zero', 'six', 'five', 'nine', 'seven', 'three', 'five',\n",
       "       'two', 'three', 'three', 'one', 'two', 'zero', 'five', 'five',\n",
       "       'zero', 'nine', 'zero', 'seven', 'eight', 'five', 'three', 'zero',\n",
       "       'eight', 'nine', 'five', 'three', 'four', 'six', 'one', 'two',\n",
       "       'three', 'nine', 'three', 'three', 'two', 'four', 'five', 'two',\n",
       "       'one', 'one', 'six', 'three', 'nine', 'nine', 'eight', 'seven',\n",
       "       'zero', 'four', 'six', 'three', 'two', 'six', 'one', 'four',\n",
       "       'seven', 'seven', 'seven', 'nine', 'four', 'one', 'four', 'one',\n",
       "       'eight', 'three', 'six', 'five', 'six', 'seven', 'eight', 'five',\n",
       "       'four', 'six', 'eight', 'five', 'eight', 'six', 'eight', 'seven',\n",
       "       'five', 'five', 'five', 'nine', 'zero', 'nine', 'eight', 'one',\n",
       "       'zero', 'two', 'three', 'one', 'six', 'zero', 'four', 'nine',\n",
       "       'five', 'six', 'one', 'five', 'two', 'zero', 'five', 'five', 'four',\n",
       "       'three', 'zero', 'four', 'two', 'five', 'four', 'one', 'six', 'two',\n",
       "       'eight', 'zero', 'two', 'one', 'three', 'four', 'four', 'nine',\n",
       "       'eight', 'seven', 'one', 'two', 'zero', 'five', 'three', 'zero',\n",
       "       'three', 'six', 'six', 'three', 'one', 'eight', 'four', 'one',\n",
       "       'one', 'zero', 'five', 'one', 'nine', 'six', 'seven', 'four',\n",
       "       'nine', 'two', 'four', 'three', 'three', 'five', 'zero', 'two',\n",
       "       'two', 'three', 'five', 'two', 'one', 'eight', 'six', 'zero', 'two',\n",
       "       'eight', 'one', 'six', 'six', 'five', 'eight', 'four', 'seven',\n",
       "       'eight', 'nine', 'nine', 'two', 'five', 'zero', 'eight', 'four',\n",
       "       'five', 'seven', 'one', 'one', 'four', 'one', 'four', 'seven',\n",
       "       'four', 'six', 'six', 'six', 'two', 'eight', 'seven', 'four', 'one',\n",
       "       'zero', 'nine', 'zero', 'nine', 'five', 'three', 'three', 'two',\n",
       "       'seven', 'two'], \n",
       "      dtype='|S5')"
      ]
     },
     "execution_count": 23,
     "metadata": {},
     "output_type": "execute_result"
    }
   ],
   "source": [
    "svm.predict(X_test)"
   ]
  },
  {
   "cell_type": "code",
   "execution_count": null,
   "metadata": {
    "collapsed": true
   },
   "outputs": [],
   "source": []
  }
 ],
 "metadata": {
  "kernelspec": {
   "display_name": "Python [py27]",
   "language": "python",
   "name": "Python [py27]"
  },
  "language_info": {
   "codemirror_mode": {
    "name": "ipython",
    "version": 2
   },
   "file_extension": ".py",
   "mimetype": "text/x-python",
   "name": "python",
   "nbconvert_exporter": "python",
   "pygments_lexer": "ipython2",
   "version": "2.7.12"
  }
 },
 "nbformat": 4,
 "nbformat_minor": 0
}
